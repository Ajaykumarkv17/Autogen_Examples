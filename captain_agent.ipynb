{
 "cells": [
  {
   "cell_type": "code",
   "execution_count": 52,
   "metadata": {},
   "outputs": [],
   "source": [
    "import os\n",
    "from dotenv import load_dotenv\n",
    "\n",
    "load_dotenv()\n",
    "\n",
    "llm_config = {\n",
    "    \"config_list\": [{\"model\": \"gpt-4o-mini\" ,\"api_key\": os.environ[\"openai_api_key\"] , \"base_url\": \"https://models.inference.ai.azure.com\"}],\n",
    "}"
   ]
  },
  {
   "cell_type": "code",
   "execution_count": 19,
   "metadata": {},
   "outputs": [],
   "source": [
    "from autogen import UserProxyAgent\n",
    "from autogen.agentchat.contrib.captainagent import CaptainAgent\n",
    "\n",
    "\n",
    "## build agents\n",
    "captain_agent = CaptainAgent(\n",
    "    name=\"captain_agent\",\n",
    "    llm_config=llm_config,\n",
    "    code_execution_config={\"use_docker\": False, \"work_dir\": \"groupchat\"},\n",
    "    agent_config_save_path=None,  # If you'd like to save the created agents in nested chat for further use, specify the save directory here\n",
    ")\n",
    "captain_user_proxy = UserProxyAgent(name=\"captain_user_proxy\", human_input_mode=\"NEVER\")"
   ]
  },
  {
   "cell_type": "code",
   "execution_count": null,
   "metadata": {},
   "outputs": [],
   "source": [
    "result = captain_user_proxy.initiate_chat(\n",
    "    captain_agent,\n",
    "    message=\"Find a recent paper about quantum computing on arxiv and find its potential applications in software.\",\n",
    "    max_turns=1,\n",
    ")"
   ]
  }
 ],
 "metadata": {
  "kernelspec": {
   "display_name": "autogen",
   "language": "python",
   "name": "python3"
  },
  "language_info": {
   "codemirror_mode": {
    "name": "ipython",
    "version": 3
   },
   "file_extension": ".py",
   "mimetype": "text/x-python",
   "name": "python",
   "nbconvert_exporter": "python",
   "pygments_lexer": "ipython3",
   "version": "3.12.1"
  }
 },
 "nbformat": 4,
 "nbformat_minor": 2
}
